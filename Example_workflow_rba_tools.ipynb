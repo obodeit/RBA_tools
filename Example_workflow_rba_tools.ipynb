{
 "cells": [
  {
   "cell_type": "code",
   "execution_count": 1,
   "metadata": {},
   "outputs": [],
   "source": [
    "from rbatools.rba_Session import RBA_Session\n",
    "import matplotlib.pyplot as plt\n",
    "import pandas"
   ]
  },
  {
   "cell_type": "markdown",
   "metadata": {},
   "source": [
    "# Load E.coli model "
   ]
  },
  {
   "cell_type": "code",
   "execution_count": null,
   "metadata": {},
   "outputs": [
    {
     "name": "stdout",
     "output_type": "stream",
     "text": [
      "BIOSIM model\n"
     ]
    }
   ],
   "source": [
    "model_filename = '../Bacterial-RBA-models/Escherichia-coli-K12-WT'\n",
    "Simulation = RBA_Session(model_filename)\n"
   ]
  },
  {
   "cell_type": "markdown",
   "metadata": {},
   "source": [
    "# Exporting a tabular represention for the structure of the model in the SBtab-format, for inspection in Excel etc..."
   ]
  },
  {
   "cell_type": "code",
   "execution_count": null,
   "metadata": {},
   "outputs": [],
   "source": [
    "Simulation.ModelStructure.exportSBtab(filename='../Structure_Ecoli_RBA_Model')"
   ]
  },
  {
   "cell_type": "markdown",
   "metadata": {},
   "source": [
    "# Setting medium, finding maximum growth-rate and handle simulation-results"
   ]
  },
  {
   "cell_type": "markdown",
   "metadata": {},
   "source": [
    "## Perform growth-rate optimisation for different glucose-concentrations and record the corresponding simulation-results"
   ]
  },
  {
   "cell_type": "code",
   "execution_count": null,
   "metadata": {},
   "outputs": [],
   "source": [
    "Simulation.setMedium({'M_glc__D':0.2})\n",
    "Simulation.findMaxGrowthRate()\n",
    "Simulation.recordResults('Glc_02')\n",
    "\n",
    "Simulation.setMedium({'M_glc__D':0.4})\n",
    "Simulation.findMaxGrowthRate()\n",
    "Simulation.recordResults('Glc_04')\n",
    "\n",
    "Simulation.setMedium({'M_glc__D':0.6})\n",
    "Simulation.findMaxGrowthRate()\n",
    "Simulation.recordResults('Glc_06')\n",
    "\n",
    "Simulation.setMedium({'M_glc__D':0.8})\n",
    "Simulation.findMaxGrowthRate()\n",
    "Simulation.recordResults('Glc_08')\n",
    "\n",
    "Simulation.setMedium({'M_glc__D':1})\n",
    "Simulation.findMaxGrowthRate()\n",
    "Simulation.recordResults('Glc_1')\n",
    "\n",
    "Simulation.writeResults()\n",
    "\n"
   ]
  },
  {
   "cell_type": "markdown",
   "metadata": {},
   "source": [
    "## Export Results as single SBtab-file"
   ]
  },
  {
   "cell_type": "code",
   "execution_count": null,
   "metadata": {},
   "outputs": [],
   "source": [
    "Simulation.SimulationData.exportSBtab(filename='../Ecoli_GlucoseScreen')"
   ]
  },
  {
   "cell_type": "markdown",
   "metadata": {},
   "source": [
    "## Export flux-distribution for each run (glucose level) as input-file for Escher-map visualisation on https://escher.github.io"
   ]
  },
  {
   "cell_type": "code",
   "execution_count": null,
   "metadata": {},
   "outputs": [],
   "source": [
    "Simulation.SimulationData.exportEscherMap()"
   ]
  },
  {
   "cell_type": "markdown",
   "metadata": {},
   "source": [
    "## Export proteome for each run (glucose level) as input-file for Proteo-map visualisation on https://www.proteomaps.net"
   ]
  },
  {
   "cell_type": "code",
   "execution_count": null,
   "metadata": {},
   "outputs": [],
   "source": [
    "Simulation.SimulationData.exportProteoMap()"
   ]
  },
  {
   "cell_type": "markdown",
   "metadata": {},
   "source": [
    "# Performing variability-analysis for glycolysis-reaction at different growth-rates"
   ]
  },
  {
   "cell_type": "markdown",
   "metadata": {},
   "source": [
    "## Define medium and determine maximum-growth-rate"
   ]
  },
  {
   "cell_type": "code",
   "execution_count": null,
   "metadata": {},
   "outputs": [],
   "source": [
    "Simulation.setMedium({'M_glc__D':2})\n",
    "mumax=Simulation.findMaxGrowthRate()\n"
   ]
  },
  {
   "cell_type": "markdown",
   "metadata": {},
   "source": [
    "## Determine the feasible-range of the glycolytic Phosphoglycerate kinase at different fractions of the maximum growth-rate"
   ]
  },
  {
   "cell_type": "code",
   "execution_count": null,
   "metadata": {},
   "outputs": [],
   "source": [
    "variable_for_feasible_range='R_PGK'\n",
    "\n",
    "Simulation.setMu(mumax*0.5)\n",
    "FR_PGK_05=Simulation.FeasibleRange(variables=variable_for_feasible_range)\n",
    "\n",
    "Simulation.setMu(mumax*0.6)\n",
    "FR_PGK_06=Simulation.FeasibleRange(variables=variable_for_feasible_range)\n",
    "\n",
    "Simulation.setMu(mumax*0.7)\n",
    "FR_PGK_07=Simulation.FeasibleRange(variables=variable_for_feasible_range)\n",
    "\n",
    "Simulation.setMu(mumax*0.8)\n",
    "FR_PGK_08=Simulation.FeasibleRange(variables=variable_for_feasible_range)\n",
    "\n",
    "\n",
    "Simulation.setMu(mumax*0.9)\n",
    "FR_PGK_09=Simulation.FeasibleRange(variables=variable_for_feasible_range)\n",
    "\n",
    "Simulation.setMu(mumax*0.999999)\n",
    "FR_PGK_0999999=Simulation.FeasibleRange(variables=variable_for_feasible_range)\n",
    "\n"
   ]
  },
  {
   "cell_type": "markdown",
   "metadata": {},
   "source": [
    "## Plot the evolution of the feasible-range at different growth-rates"
   ]
  },
  {
   "cell_type": "code",
   "execution_count": null,
   "metadata": {},
   "outputs": [],
   "source": [
    "Mins=[FR_PGK_05[variable_for_feasible_range]['Min'],FR_PGK_06[variable_for_feasible_range]['Min'],FR_PGK_07[variable_for_feasible_range]['Min'],FR_PGK_08[variable_for_feasible_range]['Min'],FR_PGK_09[variable_for_feasible_range]['Min'],FR_PGK_0999999[variable_for_feasible_range]['Min']]\n",
    "Maxs=[FR_PGK_05[variable_for_feasible_range]['Max'],FR_PGK_06[variable_for_feasible_range]['Max'],FR_PGK_07[variable_for_feasible_range]['Max'],FR_PGK_08[variable_for_feasible_range]['Max'],FR_PGK_09[variable_for_feasible_range]['Max'],FR_PGK_0999999[variable_for_feasible_range]['Max']]\n",
    "Mus=[mumax*0.5,mumax*0.6,mumax*0.7,mumax*0.8,mumax*0.9,mumax*0.999999]\n",
    "\n",
    "plt.figure(figsize=(9,6))\n",
    "plt.scatter(Mus,Mins,color='red')\n",
    "plt.scatter(Mus,Maxs,color='blue')\n",
    "\n",
    "plt.title('Feasible-range of PGK-reaction vs. growth-rate',fontsize=20)\n",
    "plt.xlabel('Growth-rate',fontsize=15)\n",
    "plt.ylabel('Flux',fontsize=15)\n",
    "plt.legend(['Upper-limit of feasible-range','Lower-limit of feasible-range'])\n"
   ]
  }
 ],
 "metadata": {
  "kernelspec": {
   "display_name": "Python 3",
   "language": "python",
   "name": "python3"
  },
  "language_info": {
   "codemirror_mode": {
    "name": "ipython",
    "version": 3
   },
   "file_extension": ".py",
   "mimetype": "text/x-python",
   "name": "python",
   "nbconvert_exporter": "python",
   "pygments_lexer": "ipython3",
   "version": "3.6.5"
  }
 },
 "nbformat": 4,
 "nbformat_minor": 2
}
